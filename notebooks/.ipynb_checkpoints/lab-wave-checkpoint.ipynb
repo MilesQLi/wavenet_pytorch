{
 "cells": [
  {
   "cell_type": "code",
   "execution_count": 2,
   "metadata": {},
   "outputs": [
    {
     "name": "stdout",
     "output_type": "stream",
     "text": [
      "/root/env/IDP-Luminovo/tts\n"
     ]
    },
    {
     "data": {
      "text/plain": [
       "'/root/env/IDP-Luminovo/tts'"
      ]
     },
     "execution_count": 2,
     "metadata": {},
     "output_type": "execute_result"
    }
   ],
   "source": [
    "# automatically show plots inside the notebook\n",
    "%matplotlib inline  \n",
    "\n",
    "# reload all modules before executing code\n",
    "%load_ext autoreload\n",
    "%autoreload 2  \n",
    "\n",
    "import numpy as np\n",
    "import os\n",
    "\n",
    "%cd ../\n",
    "%pwd"
   ]
  },
  {
   "cell_type": "code",
   "execution_count": 8,
   "metadata": {},
   "outputs": [],
   "source": [
    "from src.wavenet.wave_train import *\n",
    "from src.wavenet.wave_model import WavenetModel\n",
    "from src.dataset import TextToSpeechDataset, WavenetLoader"
   ]
  },
  {
   "cell_type": "code",
   "execution_count": 9,
   "metadata": {},
   "outputs": [],
   "source": [
    "import src.hparam as utils\n",
    "hparams = utils.load_params_from_yaml(\"src/wavenet/wave_hparams.yaml\")\n",
    "hparams.device = torch.device(\"cpu\")"
   ]
  },
  {
   "cell_type": "code",
   "execution_count": 10,
   "metadata": {},
   "outputs": [],
   "source": [
    "csv_file = \"data/metadata.csv\"\n",
    "audio_dir = 'data/wavs'"
   ]
  },
  {
   "cell_type": "code",
   "execution_count": 11,
   "metadata": {},
   "outputs": [
    {
     "name": "stdout",
     "output_type": "stream",
     "text": [
      "13084\n"
     ]
    }
   ],
   "source": [
    "from src.dataset import TextToSpeechDataset, WavenetLoader\n",
    "TTSDataset = TextToSpeechDataset(csv_file, audio_dir)\n",
    "print(len(TTSDataset))"
   ]
  },
  {
   "cell_type": "code",
   "execution_count": 12,
   "metadata": {},
   "outputs": [
    {
     "name": "stdout",
     "output_type": "stream",
     "text": [
      "sample size:  31\n"
     ]
    }
   ],
   "source": [
    "model = util.fetch_model(hparams)\n",
    "dataloader = util.fetch_dataloader(TTSDataset, model, hparams)"
   ]
  },
  {
   "cell_type": "code",
   "execution_count": 7,
   "metadata": {},
   "outputs": [
    {
     "name": "stdout",
     "output_type": "stream",
     "text": [
      "16\n",
      "15\n",
      "1\n",
      "16\n"
     ]
    }
   ],
   "source": [
    "sample_size = model.receptive_field + hparams.output_length\n",
    "print(sample_size)\n",
    "print(model.receptive_field)\n",
    "print(hparams.output_length)\n",
    "print(dataloader['val'].sample_size)"
   ]
  },
  {
   "cell_type": "code",
   "execution_count": 13,
   "metadata": {},
   "outputs": [],
   "source": [
    "import os\n",
    "import logging\n",
    "logging.basicConfig(level=logging.WARNING)\n",
    "log = logging.getLogger()\n",
    "\n",
    "_logdir = '/root/env/IDP-Luminovo/tts/log/wavenet/'\n",
    "logdir = os.path.join(_logdir, \"lab_test\")\n",
    "if not os.path.isdir(logdir):\n",
    "        log.info(\"Creating directory {}\".format(logdir))\n",
    "        os.makedirs(logdir)\n",
    "        os.chmod(logdir, 0o775)"
   ]
  },
  {
   "cell_type": "code",
   "execution_count": 4,
   "metadata": {},
   "outputs": [
    {
     "data": {
      "text/plain": [
       "'/root/env/IDP-Luminovo/tts'"
      ]
     },
     "execution_count": 4,
     "metadata": {},
     "output_type": "execute_result"
    }
   ],
   "source": [
    "pwd"
   ]
  },
  {
   "cell_type": "code",
   "execution_count": 15,
   "metadata": {},
   "outputs": [],
   "source": [
    "checkpt = 'wavenet/checkpoints/best.pth.tar'\n",
    "if not os.path.exists(checkpt):\n",
    "    raise(\"File doesn't exist {}\".format(checkpt))\n",
    "state = torch.load(checkpt)\n",
    "if hparams.resume:\n",
    "    log.info('Resuming training from checkpoint: {}'.format(checkpt))\n",
    "    best_metric = state['best_metric']\n",
    "    global_step = state['global_step']\n",
    "    optimizer.load_state_dict(state['optim_dict'])\n",
    "log.info('Loading model from checkpoint: {}'.format(checkpt))\n",
    "model.load_state_dict(state['state_dict'])"
   ]
  },
  {
   "cell_type": "code",
   "execution_count": 31,
   "metadata": {},
   "outputs": [
    {
     "name": "stdout",
     "output_type": "stream",
     "text": [
      "input length:  31\n",
      "generation starting size:  torch.Size([1, 1, 31])\n",
      "forward step! \n",
      "input size:  torch.Size([1, 1, 31])\n",
      "  size after dilations:  torch.Size([1, 4, 1])\n",
      "  output size:  torch.Size([1, 256, 1])\n",
      "generation starting size:  torch.Size([1, 1, 31])\n",
      "forward step! \n",
      "input size:  torch.Size([1, 1, 31])\n",
      "  size after dilations:  torch.Size([1, 4, 1])\n",
      "  output size:  torch.Size([1, 256, 1])\n",
      "generation starting size:  torch.Size([1, 1, 31])\n",
      "forward step! \n",
      "input size:  torch.Size([1, 1, 31])\n",
      "  size after dilations:  torch.Size([1, 4, 1])\n",
      "  output size:  torch.Size([1, 256, 1])\n",
      "generation starting size:  torch.Size([1, 1, 31])\n",
      "forward step! \n",
      "input size:  torch.Size([1, 1, 31])\n",
      "  size after dilations:  torch.Size([1, 4, 1])\n",
      "  output size:  torch.Size([1, 256, 1])\n",
      "generation starting size:  torch.Size([1, 1, 31])\n",
      "forward step! \n",
      "input size:  torch.Size([1, 1, 31])\n",
      "  size after dilations:  torch.Size([1, 4, 1])\n",
      "  output size:  torch.Size([1, 256, 1])\n",
      "generation starting size:  torch.Size([1, 1, 31])\n",
      "forward step! \n",
      "input size:  torch.Size([1, 1, 31])\n",
      "  size after dilations:  torch.Size([1, 4, 1])\n",
      "  output size:  torch.Size([1, 256, 1])\n",
      "generation starting size:  torch.Size([1, 1, 31])\n",
      "forward step! \n",
      "input size:  torch.Size([1, 1, 31])\n",
      "  size after dilations:  torch.Size([1, 4, 1])\n",
      "  output size:  torch.Size([1, 256, 1])\n",
      "generation starting size:  torch.Size([1, 1, 31])\n",
      "forward step! \n",
      "input size:  torch.Size([1, 1, 31])\n",
      "  size after dilations:  torch.Size([1, 4, 1])\n",
      "  output size:  torch.Size([1, 256, 1])\n",
      "generation starting size:  torch.Size([1, 1, 31])\n",
      "forward step! \n",
      "input size:  torch.Size([1, 1, 31])\n",
      "  size after dilations:  torch.Size([1, 4, 1])\n",
      "  output size:  torch.Size([1, 256, 1])\n",
      "generation starting size:  torch.Size([1, 1, 31])\n",
      "forward step! \n",
      "input size:  torch.Size([1, 1, 31])\n",
      "  size after dilations:  torch.Size([1, 4, 1])\n",
      "  output size:  torch.Size([1, 256, 1])\n",
      "generation starting size:  torch.Size([1, 1, 31])\n",
      "forward step! \n",
      "input size:  torch.Size([1, 1, 31])\n",
      "  size after dilations:  torch.Size([1, 4, 1])\n",
      "  output size:  torch.Size([1, 256, 1])\n",
      "generation starting size:  torch.Size([1, 1, 31])\n",
      "forward step! \n",
      "input size:  torch.Size([1, 1, 31])\n",
      "  size after dilations:  torch.Size([1, 4, 1])\n",
      "  output size:  torch.Size([1, 256, 1])\n",
      "generation starting size:  torch.Size([1, 1, 31])\n",
      "forward step! \n",
      "input size:  torch.Size([1, 1, 31])\n",
      "  size after dilations:  torch.Size([1, 4, 1])\n",
      "  output size:  torch.Size([1, 256, 1])\n",
      "generation starting size:  torch.Size([1, 1, 31])\n",
      "forward step! \n",
      "input size:  torch.Size([1, 1, 31])\n",
      "  size after dilations:  torch.Size([1, 4, 1])\n",
      "  output size:  torch.Size([1, 256, 1])\n",
      "generation starting size:  torch.Size([1, 1, 31])\n",
      "forward step! \n",
      "input size:  torch.Size([1, 1, 31])\n",
      "  size after dilations:  torch.Size([1, 4, 1])\n",
      "  output size:  torch.Size([1, 256, 1])\n",
      "generation starting size:  torch.Size([1, 1, 31])\n",
      "forward step! \n",
      "input size:  torch.Size([1, 1, 31])\n",
      "  size after dilations:  torch.Size([1, 4, 1])\n",
      "  output size:  torch.Size([1, 256, 1])\n",
      "generation starting size:  torch.Size([1, 1, 31])\n",
      "forward step! \n",
      "input size:  torch.Size([1, 1, 31])\n",
      "  size after dilations:  torch.Size([1, 4, 1])\n",
      "  output size:  torch.Size([1, 256, 1])\n",
      "generation starting size:  torch.Size([1, 1, 31])\n",
      "forward step! \n",
      "input size:  torch.Size([1, 1, 31])\n",
      "  size after dilations:  torch.Size([1, 4, 1])\n",
      "  output size:  torch.Size([1, 256, 1])\n",
      "generation starting size:  torch.Size([1, 1, 31])\n",
      "forward step! \n",
      "input size:  torch.Size([1, 1, 31])\n",
      "  size after dilations:  torch.Size([1, 4, 1])\n",
      "  output size:  torch.Size([1, 256, 1])\n",
      "generation starting size:  torch.Size([1, 1, 31])\n",
      "forward step! \n",
      "input size:  torch.Size([1, 1, 31])\n",
      "  size after dilations:  torch.Size([1, 4, 1])\n",
      "  output size:  torch.Size([1, 256, 1])\n",
      "generation starting size:  torch.Size([1, 1, 31])\n",
      "forward step! \n",
      "input size:  torch.Size([1, 1, 31])\n",
      "  size after dilations:  torch.Size([1, 4, 1])\n",
      "  output size:  torch.Size([1, 256, 1])\n",
      "generation starting size:  torch.Size([1, 1, 31])\n",
      "forward step! \n",
      "input size:  torch.Size([1, 1, 31])\n",
      "  size after dilations:  torch.Size([1, 4, 1])\n",
      "  output size:  torch.Size([1, 256, 1])\n",
      "generation starting size:  torch.Size([1, 1, 31])\n",
      "forward step! \n",
      "input size:  torch.Size([1, 1, 31])\n",
      "  size after dilations:  torch.Size([1, 4, 1])\n",
      "  output size:  torch.Size([1, 256, 1])\n",
      "generation starting size:  torch.Size([1, 1, 31])\n",
      "forward step! \n",
      "input size:  torch.Size([1, 1, 31])\n",
      "  size after dilations:  torch.Size([1, 4, 1])\n",
      "  output size:  torch.Size([1, 256, 1])\n",
      "generation starting size:  torch.Size([1, 1, 31])\n",
      "forward step! \n",
      "input size:  torch.Size([1, 1, 31])\n",
      "  size after dilations:  torch.Size([1, 4, 1])\n",
      "  output size:  torch.Size([1, 256, 1])\n",
      "generation starting size:  torch.Size([1, 1, 31])\n",
      "forward step! \n",
      "input size:  torch.Size([1, 1, 31])\n",
      "  size after dilations:  torch.Size([1, 4, 1])\n",
      "  output size:  torch.Size([1, 256, 1])\n",
      "generation starting size:  torch.Size([1, 1, 31])\n",
      "forward step! \n",
      "input size:  torch.Size([1, 1, 31])\n",
      "  size after dilations:  torch.Size([1, 4, 1])\n",
      "  output size:  torch.Size([1, 256, 1])\n",
      "generation starting size:  torch.Size([1, 1, 31])\n",
      "forward step! \n",
      "input size:  torch.Size([1, 1, 31])\n",
      "  size after dilations:  torch.Size([1, 4, 1])\n",
      "  output size:  torch.Size([1, 256, 1])\n",
      "generation starting size:  torch.Size([1, 1, 31])\n",
      "forward step! \n",
      "input size:  torch.Size([1, 1, 31])\n",
      "  size after dilations:  torch.Size([1, 4, 1])\n",
      "  output size:  torch.Size([1, 256, 1])\n",
      "generation starting size:  torch.Size([1, 1, 31])\n",
      "forward step! \n",
      "input size:  torch.Size([1, 1, 31])\n",
      "  size after dilations:  torch.Size([1, 4, 1])\n",
      "  output size:  torch.Size([1, 256, 1])\n",
      "generation starting size:  torch.Size([1, 1, 31])\n",
      "forward step! \n",
      "input size:  torch.Size([1, 1, 31])\n",
      "  size after dilations:  torch.Size([1, 4, 1])\n",
      "  output size:  torch.Size([1, 256, 1])\n",
      "generation starting size:  torch.Size([1, 1, 31])\n",
      "forward step! \n",
      "input size:  torch.Size([1, 1, 31])\n",
      "  size after dilations:  torch.Size([1, 4, 1])\n",
      "  output size:  torch.Size([1, 256, 1])\n",
      "generation starting size:  torch.Size([1, 1, 31])\n",
      "forward step! \n",
      "input size:  torch.Size([1, 1, 31])\n",
      "  size after dilations:  torch.Size([1, 4, 1])\n",
      "  output size:  torch.Size([1, 256, 1])\n",
      "generation starting size:  torch.Size([1, 1, 31])\n",
      "forward step! \n",
      "input size:  torch.Size([1, 1, 31])\n",
      "  size after dilations:  torch.Size([1, 4, 1])\n",
      "  output size:  torch.Size([1, 256, 1])\n",
      "generation starting size:  torch.Size([1, 1, 31])\n",
      "forward step! \n",
      "input size:  torch.Size([1, 1, 31])\n",
      "  size after dilations:  torch.Size([1, 4, 1])\n",
      "  output size:  torch.Size([1, 256, 1])\n",
      "generation starting size:  torch.Size([1, 1, 31])\n",
      "forward step! \n",
      "input size:  torch.Size([1, 1, 31])\n",
      "  size after dilations:  torch.Size([1, 4, 1])\n",
      "  output size:  torch.Size([1, 256, 1])\n",
      "generation starting size:  torch.Size([1, 1, 31])\n",
      "forward step! \n",
      "input size:  torch.Size([1, 1, 31])\n",
      "  size after dilations:  torch.Size([1, 4, 1])\n",
      "  output size:  torch.Size([1, 256, 1])\n",
      "generation starting size:  torch.Size([1, 1, 31])\n",
      "forward step! \n",
      "input size:  torch.Size([1, 1, 31])\n",
      "  size after dilations:  torch.Size([1, 4, 1])\n",
      "  output size:  torch.Size([1, 256, 1])\n",
      "generation starting size:  torch.Size([1, 1, 31])\n",
      "forward step! \n",
      "input size:  torch.Size([1, 1, 31])\n",
      "  size after dilations:  torch.Size([1, 4, 1])\n",
      "  output size:  torch.Size([1, 256, 1])\n",
      "generation starting size:  torch.Size([1, 1, 31])\n",
      "forward step! \n",
      "input size:  torch.Size([1, 1, 31])\n",
      "  size after dilations:  torch.Size([1, 4, 1])\n",
      "  output size:  torch.Size([1, 256, 1])\n",
      "generation starting size:  torch.Size([1, 1, 31])\n",
      "forward step! \n",
      "input size:  torch.Size([1, 1, 31])\n",
      "  size after dilations:  torch.Size([1, 4, 1])\n",
      "  output size:  torch.Size([1, 256, 1])\n",
      "generation starting size:  torch.Size([1, 1, 31])\n",
      "forward step! \n",
      "input size:  torch.Size([1, 1, 31])\n",
      "  size after dilations:  torch.Size([1, 4, 1])\n",
      "  output size:  torch.Size([1, 256, 1])\n",
      "generation starting size:  torch.Size([1, 1, 31])\n",
      "forward step! \n",
      "input size:  torch.Size([1, 1, 31])\n",
      "  size after dilations:  torch.Size([1, 4, 1])\n",
      "  output size:  torch.Size([1, 256, 1])\n",
      "generation starting size:  torch.Size([1, 1, 31])\n",
      "forward step! \n",
      "input size:  torch.Size([1, 1, 31])\n",
      "  size after dilations:  torch.Size([1, 4, 1])\n",
      "  output size:  torch.Size([1, 256, 1])\n",
      "generation starting size:  torch.Size([1, 1, 31])\n",
      "forward step! \n",
      "input size:  torch.Size([1, 1, 31])\n",
      "  size after dilations:  torch.Size([1, 4, 1])\n",
      "  output size:  torch.Size([1, 256, 1])\n",
      "generation starting size:  torch.Size([1, 1, 31])\n",
      "forward step! \n",
      "input size:  torch.Size([1, 1, 31])\n",
      "  size after dilations:  torch.Size([1, 4, 1])\n",
      "  output size:  torch.Size([1, 256, 1])\n",
      "generation starting size:  torch.Size([1, 1, 31])\n",
      "forward step! \n",
      "input size:  torch.Size([1, 1, 31])\n",
      "  size after dilations:  torch.Size([1, 4, 1])\n",
      "  output size:  torch.Size([1, 256, 1])\n",
      "generation starting size:  torch.Size([1, 1, 31])\n",
      "forward step! \n",
      "input size:  torch.Size([1, 1, 31])\n",
      "  size after dilations:  torch.Size([1, 4, 1])\n",
      "  output size:  torch.Size([1, 256, 1])\n",
      "generation starting size:  torch.Size([1, 1, 31])\n",
      "forward step! \n",
      "input size:  torch.Size([1, 1, 31])\n",
      "  size after dilations:  torch.Size([1, 4, 1])\n",
      "  output size:  torch.Size([1, 256, 1])\n",
      "generation starting size:  torch.Size([1, 1, 31])\n",
      "forward step! \n",
      "input size:  torch.Size([1, 1, 31])\n",
      "  size after dilations:  torch.Size([1, 4, 1])\n",
      "  output size:  torch.Size([1, 256, 1])\n",
      "generation starting size:  torch.Size([1, 1, 31])\n",
      "forward step! \n",
      "input size:  torch.Size([1, 1, 31])\n",
      "  size after dilations:  torch.Size([1, 4, 1])\n",
      "  output size:  torch.Size([1, 256, 1])\n",
      "generation starting size:  torch.Size([1, 1, 31])\n",
      "forward step! \n",
      "input size:  torch.Size([1, 1, 31])\n",
      "  size after dilations:  torch.Size([1, 4, 1])\n",
      "  output size:  torch.Size([1, 256, 1])\n",
      "generation starting size:  torch.Size([1, 1, 31])\n",
      "forward step! \n",
      "input size:  torch.Size([1, 1, 31])\n",
      "  size after dilations:  torch.Size([1, 4, 1])\n",
      "  output size:  torch.Size([1, 256, 1])\n",
      "generation starting size:  torch.Size([1, 1, 31])\n",
      "forward step! \n",
      "input size:  torch.Size([1, 1, 31])\n",
      "  size after dilations:  torch.Size([1, 4, 1])\n",
      "  output size:  torch.Size([1, 256, 1])\n",
      "generation starting size:  torch.Size([1, 1, 31])\n",
      "forward step! \n",
      "input size:  torch.Size([1, 1, 31])\n",
      "  size after dilations:  torch.Size([1, 4, 1])\n",
      "  output size:  torch.Size([1, 256, 1])\n",
      "generation starting size:  torch.Size([1, 1, 31])\n",
      "forward step! \n",
      "input size:  torch.Size([1, 1, 31])\n",
      "  size after dilations:  torch.Size([1, 4, 1])\n",
      "  output size:  torch.Size([1, 256, 1])\n",
      "generation starting size:  torch.Size([1, 1, 31])\n",
      "forward step! \n",
      "input size:  torch.Size([1, 1, 31])\n",
      "  size after dilations:  torch.Size([1, 4, 1])\n",
      "  output size:  torch.Size([1, 256, 1])\n",
      "generation starting size:  torch.Size([1, 1, 31])\n",
      "forward step! \n",
      "input size:  torch.Size([1, 1, 31])\n",
      "  size after dilations:  torch.Size([1, 4, 1])\n",
      "  output size:  torch.Size([1, 256, 1])\n",
      "generation starting size:  torch.Size([1, 1, 31])\n",
      "forward step! \n",
      "input size:  torch.Size([1, 1, 31])\n",
      "  size after dilations:  torch.Size([1, 4, 1])\n",
      "  output size:  torch.Size([1, 256, 1])\n",
      "generation starting size:  torch.Size([1, 1, 31])\n",
      "forward step! \n",
      "input size:  torch.Size([1, 1, 31])\n",
      "  size after dilations:  torch.Size([1, 4, 1])\n",
      "  output size:  torch.Size([1, 256, 1])\n",
      "generation starting size:  torch.Size([1, 1, 31])\n",
      "forward step! \n",
      "input size:  torch.Size([1, 1, 31])\n",
      "  size after dilations:  torch.Size([1, 4, 1])\n",
      "  output size:  torch.Size([1, 256, 1])\n",
      "generation starting size:  torch.Size([1, 1, 31])\n",
      "forward step! \n",
      "input size:  torch.Size([1, 1, 31])\n",
      "  size after dilations:  torch.Size([1, 4, 1])\n",
      "  output size:  torch.Size([1, 256, 1])\n",
      "generation starting size:  torch.Size([1, 1, 31])\n",
      "forward step! \n",
      "input size:  torch.Size([1, 1, 31])\n",
      "  size after dilations:  torch.Size([1, 4, 1])\n",
      "  output size:  torch.Size([1, 256, 1])\n",
      "generation starting size:  torch.Size([1, 1, 31])\n",
      "forward step! \n",
      "input size:  torch.Size([1, 1, 31])\n",
      "  size after dilations:  torch.Size([1, 4, 1])\n",
      "  output size:  torch.Size([1, 256, 1])\n",
      "generation starting size:  torch.Size([1, 1, 31])\n",
      "forward step! \n",
      "input size:  torch.Size([1, 1, 31])\n",
      "  size after dilations:  torch.Size([1, 4, 1])\n",
      "  output size:  torch.Size([1, 256, 1])\n",
      "generation starting size:  torch.Size([1, 1, 31])\n",
      "forward step! \n",
      "input size:  torch.Size([1, 1, 31])\n",
      "  size after dilations:  torch.Size([1, 4, 1])\n",
      "  output size:  torch.Size([1, 256, 1])\n",
      "generation starting size:  torch.Size([1, 1, 31])\n",
      "forward step! \n",
      "input size:  torch.Size([1, 1, 31])\n",
      "  size after dilations:  torch.Size([1, 4, 1])\n",
      "  output size:  torch.Size([1, 256, 1])\n",
      "generation starting size:  torch.Size([1, 1, 31])\n",
      "forward step! \n",
      "input size:  torch.Size([1, 1, 31])\n",
      "  size after dilations:  torch.Size([1, 4, 1])\n",
      "  output size:  torch.Size([1, 256, 1])\n",
      "generation starting size:  torch.Size([1, 1, 31])\n",
      "forward step! \n",
      "input size:  torch.Size([1, 1, 31])\n",
      "  size after dilations:  torch.Size([1, 4, 1])\n",
      "  output size:  torch.Size([1, 256, 1])\n"
     ]
    }
   ],
   "source": [
    "gen = model.generate(1000)"
   ]
  },
  {
   "cell_type": "code",
   "execution_count": 32,
   "metadata": {},
   "outputs": [
    {
     "ename": "AttributeError",
     "evalue": "'numpy.ndarray' object has no attribute 'numpy'",
     "output_type": "error",
     "traceback": [
      "\u001b[0;31m---------------------------------------------------------------------------\u001b[0m",
      "\u001b[0;31mAttributeError\u001b[0m                            Traceback (most recent call last)",
      "\u001b[0;32m<ipython-input-32-7b20894941c1>\u001b[0m in \u001b[0;36m<module>\u001b[0;34m()\u001b[0m\n\u001b[0;32m----> 1\u001b[0;31m \u001b[0maudio\u001b[0m \u001b[0;34m=\u001b[0m \u001b[0mgen\u001b[0m\u001b[0;34m.\u001b[0m\u001b[0mnumpy\u001b[0m\u001b[0;34m(\u001b[0m\u001b[0;34m)\u001b[0m\u001b[0;34m.\u001b[0m\u001b[0msqueeze\u001b[0m\u001b[0;34m(\u001b[0m\u001b[0;34m)\u001b[0m\u001b[0;34m\u001b[0m\u001b[0m\n\u001b[0m",
      "\u001b[0;31mAttributeError\u001b[0m: 'numpy.ndarray' object has no attribute 'numpy'"
     ]
    }
   ],
   "source": [
    "audio = gen.numpy().squeeze()"
   ]
  },
  {
   "cell_type": "code",
   "execution_count": 33,
   "metadata": {},
   "outputs": [
    {
     "data": {
      "text/html": [
       "\n",
       "                <audio controls=\"controls\" >\n",
       "                    <source src=\"data:audio/wav;base64,UklGRuwAAABXQVZFZm10IBAAAAABAAEAIlYAAESsAAACABAAZGF0YcgAAAAAAAAAAAAAAAAAAAAAAAAAAAAAAAAAAAAAAAAAAAAAAAAAAAAAAAAAAAAAAAAAAAAAAAAAAAAAAAAAAAAAAP9//3//f/9//3//f/9//3//f/9//3//f/9//3//f/9//3//f/9//3//f/9//3//f/9//3//f/9//3//f/9//3//f/9//3//f/9//3//f/9//3//f/9//3//f/9//3//f/9//3//f/9//3//f/9//3//f/9//3//f/9//3//f/9//3//f/9//3//fw==\" type=\"audio/wav\" />\n",
       "                    Your browser does not support the audio element.\n",
       "                </audio>\n",
       "              "
      ],
      "text/plain": [
       "<IPython.lib.display.Audio object>"
      ]
     },
     "execution_count": 33,
     "metadata": {},
     "output_type": "execute_result"
    }
   ],
   "source": [
    "import IPython.display as ipd\n",
    "ipd.Audio(gen, rate=22050)"
   ]
  },
  {
   "cell_type": "code",
   "execution_count": null,
   "metadata": {},
   "outputs": [
    {
     "name": "stdout",
     "output_type": "stream",
     "text": [
      "sample size:  31\n",
      "epoch:  0\n",
      "collate call!:  5\n",
      "[127133, 39069, 191901, 140445, 65949]\n",
      "0\n",
      " length of audio:  127133\n",
      " max len:  191901\n",
      " batch input:  torch.Size([1, 1, 191901])\n",
      " batch output:  torch.Size([191871])\n",
      "1\n",
      " length of audio:  39069\n",
      " max len:  191901\n",
      " batch input:  torch.Size([2, 1, 191901])\n",
      " batch output:  torch.Size([383742])\n",
      "2\n",
      " length of audio:  191901\n",
      " max len:  191901\n",
      " batch input:  torch.Size([3, 1, 191901])\n",
      " batch output:  torch.Size([575613])\n",
      "3\n",
      " length of audio:  140445\n",
      " max len:  191901\n",
      " batch input:  torch.Size([4, 1, 191901])\n",
      " batch output:  torch.Size([767484])\n",
      "4\n",
      " length of audio:  65949\n",
      " max len:  191901\n",
      " batch input:  torch.Size([5, 1, 191901])\n",
      " batch output:  torch.Size([959355])\n",
      "return batches\n",
      "data loading \n",
      "forward step! \n",
      "input size:  torch.Size([5, 1, 191901])\n",
      "  size after dilations:  torch.Size([5, 4, 191871])\n",
      "  output size:  torch.Size([5, 256, 191871])\n"
     ]
    }
   ],
   "source": [
    "train_and_evaluate(TTSDataset, hparams, logdir)"
   ]
  },
  {
   "cell_type": "code",
   "execution_count": 19,
   "metadata": {},
   "outputs": [
    {
     "name": "stdout",
     "output_type": "stream",
     "text": [
      "256\n"
     ]
    }
   ],
   "source": [
    "from src.dataset import TextToSpeechDataset, WavenetLoader\n",
    "dataloader = util.fetch_dataloader(TTSDataset, model, hparams)\n",
    "loader = dataloader['val']\n",
    "print(loader.q_channels)"
   ]
  },
  {
   "cell_type": "code",
   "execution_count": 20,
   "metadata": {},
   "outputs": [
    {
     "data": {
      "text/plain": [
       "array([-7.3242188e-04, -7.6293945e-04, -6.4086914e-04, ...,\n",
       "        7.3242188e-04,  2.1362305e-04,  6.1035156e-05], dtype=float32)"
      ]
     },
     "execution_count": 20,
     "metadata": {},
     "output_type": "execute_result"
    }
   ],
   "source": [
    "TTSDataset[0]['speech']"
   ]
  },
  {
   "cell_type": "code",
   "execution_count": 4,
   "metadata": {},
   "outputs": [],
   "source": [
    "from src.wavenet import *"
   ]
  },
  {
   "cell_type": "code",
   "execution_count": 5,
   "metadata": {},
   "outputs": [
    {
     "ename": "NameError",
     "evalue": "name 'wave_util' is not defined",
     "output_type": "error",
     "traceback": [
      "\u001b[0;31m---------------------------------------------------------------------------\u001b[0m",
      "\u001b[0;31mNameError\u001b[0m                                 Traceback (most recent call last)",
      "\u001b[0;32m<ipython-input-5-632500b2554b>\u001b[0m in \u001b[0;36m<module>\u001b[0;34m()\u001b[0m\n\u001b[0;32m----> 1\u001b[0;31m \u001b[0mwave_util\u001b[0m\u001b[0;34m.\u001b[0m\u001b[0mone_hot\u001b[0m\u001b[0;34m\u001b[0m\u001b[0m\n\u001b[0m",
      "\u001b[0;31mNameError\u001b[0m: name 'wave_util' is not defined"
     ]
    }
   ],
   "source": [
    "wave_util.one_hot"
   ]
  },
  {
   "cell_type": "code",
   "execution_count": 38,
   "metadata": {},
   "outputs": [],
   "source": [
    "z = torch.zeros(0, 0)"
   ]
  },
  {
   "cell_type": "code",
   "execution_count": 39,
   "metadata": {},
   "outputs": [
    {
     "ename": "RuntimeError",
     "evalue": "Expected a Tensor of type torch.FloatTensor but found a type torch.LongTensor for sequence element 1  in sequence argument at position #1 'tensors'",
     "output_type": "error",
     "traceback": [
      "\u001b[0;31m---------------------------------------------------------------------------\u001b[0m",
      "\u001b[0;31mRuntimeError\u001b[0m                              Traceback (most recent call last)",
      "\u001b[0;32m<ipython-input-39-a2e4d9ce0188>\u001b[0m in \u001b[0;36m<module>\u001b[0;34m()\u001b[0m\n\u001b[0;32m----> 1\u001b[0;31m \u001b[0mtorch\u001b[0m\u001b[0;34m.\u001b[0m\u001b[0mcat\u001b[0m\u001b[0;34m(\u001b[0m\u001b[0;34m(\u001b[0m\u001b[0mz\u001b[0m\u001b[0;34m,\u001b[0m \u001b[0mk\u001b[0m\u001b[0;34m)\u001b[0m\u001b[0;34m)\u001b[0m\u001b[0;34m\u001b[0m\u001b[0m\n\u001b[0m",
      "\u001b[0;31mRuntimeError\u001b[0m: Expected a Tensor of type torch.FloatTensor but found a type torch.LongTensor for sequence element 1  in sequence argument at position #1 'tensors'"
     ]
    }
   ],
   "source": [
    "torch.cat((z, k))"
   ]
  },
  {
   "cell_type": "code",
   "execution_count": null,
   "metadata": {},
   "outputs": [],
   "source": []
  }
 ],
 "metadata": {
  "kernelspec": {
   "display_name": "Python 3",
   "language": "python",
   "name": "python3"
  },
  "language_info": {
   "codemirror_mode": {
    "name": "ipython",
    "version": 3
   },
   "file_extension": ".py",
   "mimetype": "text/x-python",
   "name": "python",
   "nbconvert_exporter": "python",
   "pygments_lexer": "ipython3",
   "version": "3.6.5"
  }
 },
 "nbformat": 4,
 "nbformat_minor": 2
}
